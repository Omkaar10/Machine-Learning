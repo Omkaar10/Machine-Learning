{
 "cells": [
  {
   "cell_type": "markdown",
   "metadata": {},
   "source": [
    "## 1. Create the below pattern using nested for loop in Python.\n",
    "\n",
    "## *\n",
    "## * *\n",
    "## * * *\n",
    "## * * * *\n",
    "## * * * * *\n",
    "## * * * *\n",
    "## * * *\n",
    "## * *\n",
    "## *"
   ]
  },
  {
   "cell_type": "code",
   "execution_count": 89,
   "metadata": {
    "scrolled": true
   },
   "outputs": [],
   "source": [
    "def starpattern():\n",
    "    for i in range(1,6):\n",
    "        print('*'*i)\n",
    "        if i ==5:\n",
    "            for j in range(4,0,-1):\n",
    "                print('*'*j)\n",
    "                "
   ]
  },
  {
   "cell_type": "code",
   "execution_count": 90,
   "metadata": {},
   "outputs": [
    {
     "name": "stdout",
     "output_type": "stream",
     "text": [
      "*\n",
      "**\n",
      "***\n",
      "****\n",
      "*****\n",
      "****\n",
      "***\n",
      "**\n",
      "*\n"
     ]
    }
   ],
   "source": [
    "starpattern()"
   ]
  },
  {
   "cell_type": "markdown",
   "metadata": {},
   "source": [
    "## 6. Write a Python program to reverse a word after accepting the input from the user.Sample Output:\n",
    "#### Input word: Ineuron\n",
    "#### Output: noruenI"
   ]
  },
  {
   "cell_type": "code",
   "execution_count": 99,
   "metadata": {},
   "outputs": [],
   "source": [
    "#Pythonist implementation\n",
    "def reversing_string():\n",
    "    print('Reversed string is : ',input('Enter the string to reverse : ')[::-1])\n",
    "    \n",
    "#traditional implementation\n",
    "def reverse_string():\n",
    "    input_string=input('Enter the string to reverse : ')\n",
    "    reverse_string=input_string[::-1]\n",
    "    print('Reversed string is : ',reverse_string)"
   ]
  },
  {
   "cell_type": "code",
   "execution_count": 100,
   "metadata": {},
   "outputs": [
    {
     "name": "stdout",
     "output_type": "stream",
     "text": [
      "Enter the string to reverse : Omkar\n",
      "rakmO\n",
      "Enter the string to reverse : Inueron\n",
      "Reversed string is :  noreunI\n"
     ]
    }
   ],
   "source": [
    "reversing_string()\n",
    "reverse_string()"
   ]
  },
  {
   "cell_type": "code",
   "execution_count": null,
   "metadata": {},
   "outputs": [],
   "source": []
  }
 ],
 "metadata": {
  "kernelspec": {
   "display_name": "Python 3",
   "language": "python",
   "name": "python3"
  },
  "language_info": {
   "codemirror_mode": {
    "name": "ipython",
    "version": 3
   },
   "file_extension": ".py",
   "mimetype": "text/x-python",
   "name": "python",
   "nbconvert_exporter": "python",
   "pygments_lexer": "ipython3",
   "version": "3.7.4"
  }
 },
 "nbformat": 4,
 "nbformat_minor": 4
}
